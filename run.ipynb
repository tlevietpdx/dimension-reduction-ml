{
 "cells": [
  {
   "cell_type": "code",
   "execution_count": 1,
   "metadata": {},
   "outputs": [],
   "source": [
    "from preprocess import get_img_paths, prep_data\n",
    "import numpy as np"
   ]
  },
  {
   "cell_type": "markdown",
   "metadata": {},
   "source": [
    "### Get image file paths"
   ]
  },
  {
   "cell_type": "code",
   "execution_count": 2,
   "metadata": {},
   "outputs": [],
   "source": [
    "fractured, nfractured = get_img_paths('train')"
   ]
  },
  {
   "cell_type": "markdown",
   "metadata": {},
   "source": [
    "### Preprocess data for train"
   ]
  },
  {
   "cell_type": "code",
   "execution_count": 3,
   "metadata": {},
   "outputs": [
    {
     "data": {
      "text/plain": [
       "((8538, 224, 224, 1), (8538, 1))"
      ]
     },
     "execution_count": 3,
     "metadata": {},
     "output_type": "execute_result"
    }
   ],
   "source": [
    "x_1, y_1 = prep_data(fractured, 1)\n",
    "x_0, y_0 = prep_data(nfractured, 0)\n",
    "x_train = np.concatenate([x_0,x_1], axis=0)\n",
    "x_train = np.expand_dims(x_train, axis=-1)\n",
    "y_train = np.concatenate([y_0,y_1], axis=0)\n",
    "x_train.shape, y_train.shape"
   ]
  },
  {
   "cell_type": "markdown",
   "metadata": {},
   "source": [
    "### Preprocess data for validation"
   ]
  },
  {
   "cell_type": "code",
   "execution_count": 4,
   "metadata": {},
   "outputs": [
    {
     "data": {
      "text/plain": [
       "((582, 224, 224, 1), (582, 1))"
      ]
     },
     "execution_count": 4,
     "metadata": {},
     "output_type": "execute_result"
    }
   ],
   "source": [
    "val_fractured, val_nfractured = get_img_paths('val')\n",
    "x_1, y_1 = prep_data(val_fractured, 1)\n",
    "x_0, y_0 = prep_data(val_nfractured, 0)\n",
    "x_val = np.concatenate([x_0,x_1], axis=0)\n",
    "x_val = np.expand_dims(x_val, axis=-1)\n",
    "y_val = np.concatenate([y_0,y_1], axis=0)\n",
    "x_val.shape, y_val.shape"
   ]
  },
  {
   "cell_type": "code",
   "execution_count": 5,
   "metadata": {},
   "outputs": [],
   "source": [
    "import tensorflow as tf\n",
    "from tensorflow.keras.models import Sequential\n",
    "from tensorflow.keras.layers import Conv2D, AveragePooling2D, Flatten, Dense, LeakyReLU, Reshape, Input\n",
    "from tensorflow.keras.callbacks import EarlyStopping\n",
    "from tensorflow.keras.models import Sequential, Model\n",
    "import tensorflow as tf\n",
    "from tensorflow.keras import layers, models"
   ]
  },
  {
   "cell_type": "markdown",
   "metadata": {},
   "source": [
    "### Autoencoder architecture (Non-linear dimension reduction)"
   ]
  },
  {
   "cell_type": "code",
   "execution_count": 6,
   "metadata": {},
   "outputs": [
    {
     "name": "stdout",
     "output_type": "stream",
     "text": [
      "Model: \"model\"\n",
      "_________________________________________________________________\n",
      " Layer (type)                Output Shape              Param #   \n",
      "=================================================================\n",
      " input_1 (InputLayer)        [(None, 224, 224, 1)]     0         \n",
      "                                                                 \n",
      " encoder (Sequential)        (None, 9)                 12797439  \n",
      "                                                                 \n",
      " decoder (Sequential)        (None, 224, 224, 1)       12847606  \n",
      "                                                                 \n",
      "=================================================================\n",
      "Total params: 25645045 (97.83 MB)\n",
      "Trainable params: 25645045 (97.83 MB)\n",
      "Non-trainable params: 0 (0.00 Byte)\n",
      "_________________________________________________________________\n"
     ]
    }
   ],
   "source": [
    "input_shape = (224, 224, 1)\n",
    "\n",
    "# Encoder\n",
    "encoder = Sequential([\n",
    "    Flatten(input_shape=input_shape),  # Flatten layer to convert input to 1D\n",
    "    \n",
    "    Dense(255),\n",
    "    LeakyReLU(alpha=0.1),\n",
    "    \n",
    "    Dense(9),\n",
    "    LeakyReLU(alpha=0.1),\n",
    "], name=\"encoder\")\n",
    "\n",
    "# Decoder\n",
    "decoder = Sequential([\n",
    "    Dense(255, input_shape=(9,)),\n",
    "    LeakyReLU(alpha=0.1),\n",
    "    \n",
    "    Dense(224 * 224),\n",
    "    LeakyReLU(alpha=0.1),\n",
    "    \n",
    "    Reshape((224, 224, 1))\n",
    "], name=\"decoder\")\n",
    "\n",
    "# Combine encoder and decoder to create the autoencoder\n",
    "autoencoder_input = Input(shape=input_shape)\n",
    "encoded = encoder(autoencoder_input)\n",
    "decoded = decoder(encoded)\n",
    "autoencoder = Model(autoencoder_input, decoded)\n",
    "\n",
    "autoencoder.compile(optimizer='adam', loss='mse')\n",
    "\n",
    "autoencoder.summary()"
   ]
  },
  {
   "cell_type": "markdown",
   "metadata": {},
   "source": [
    "### MSE Loss on Auto encoder-decoder"
   ]
  },
  {
   "cell_type": "code",
   "execution_count": 7,
   "metadata": {},
   "outputs": [
    {
     "name": "stdout",
     "output_type": "stream",
     "text": [
      "Epoch 1/100\n",
      "134/134 [==============================] - 42s 309ms/step - loss: 2867.2366 - val_loss: 1256.2069\n",
      "Epoch 2/100\n",
      "134/134 [==============================] - 43s 320ms/step - loss: 1104.8633 - val_loss: 990.6733\n",
      "Epoch 3/100\n",
      "134/134 [==============================] - 43s 321ms/step - loss: 924.3425 - val_loss: 828.9111\n",
      "Epoch 4/100\n",
      "134/134 [==============================] - 42s 310ms/step - loss: 810.5392 - val_loss: 752.7122\n",
      "Epoch 5/100\n",
      "134/134 [==============================] - 40s 301ms/step - loss: 758.1308 - val_loss: 715.9968\n",
      "Epoch 6/100\n",
      "134/134 [==============================] - 40s 297ms/step - loss: 716.0281 - val_loss: 683.0338\n",
      "Epoch 7/100\n",
      "134/134 [==============================] - 40s 298ms/step - loss: 685.9343 - val_loss: 660.0860\n",
      "Epoch 8/100\n",
      "134/134 [==============================] - 40s 296ms/step - loss: 671.4184 - val_loss: 638.3483\n",
      "Epoch 9/100\n",
      "134/134 [==============================] - 40s 301ms/step - loss: 645.3823 - val_loss: 618.5173\n",
      "Epoch 10/100\n",
      "134/134 [==============================] - 54s 403ms/step - loss: 633.2830 - val_loss: 605.1464\n",
      "Epoch 11/100\n",
      "134/134 [==============================] - 46s 341ms/step - loss: 615.3412 - val_loss: 598.8136\n",
      "Epoch 12/100\n",
      "134/134 [==============================] - 47s 347ms/step - loss: 603.7912 - val_loss: 589.8049\n",
      "Epoch 13/100\n",
      "134/134 [==============================] - 40s 297ms/step - loss: 587.7161 - val_loss: 568.8802\n",
      "Epoch 14/100\n",
      "134/134 [==============================] - 39s 288ms/step - loss: 580.0876 - val_loss: 572.5911\n",
      "Epoch 15/100\n",
      "134/134 [==============================] - 39s 291ms/step - loss: 569.7162 - val_loss: 544.7963\n",
      "Epoch 16/100\n",
      "134/134 [==============================] - 38s 287ms/step - loss: 553.0696 - val_loss: 543.6383\n",
      "Epoch 17/100\n",
      "134/134 [==============================] - 39s 291ms/step - loss: 550.2155 - val_loss: 531.4690\n",
      "Epoch 18/100\n",
      "134/134 [==============================] - 39s 291ms/step - loss: 543.8777 - val_loss: 523.0859\n",
      "Epoch 19/100\n",
      "134/134 [==============================] - 39s 290ms/step - loss: 534.1570 - val_loss: 520.7795\n",
      "Epoch 20/100\n",
      "134/134 [==============================] - 39s 292ms/step - loss: 528.2678 - val_loss: 506.0569\n",
      "Epoch 21/100\n",
      "134/134 [==============================] - 39s 293ms/step - loss: 520.2674 - val_loss: 513.0103\n",
      "Epoch 22/100\n",
      "134/134 [==============================] - 39s 290ms/step - loss: 516.4355 - val_loss: 504.7059\n",
      "Epoch 23/100\n",
      "134/134 [==============================] - 39s 292ms/step - loss: 511.2742 - val_loss: 540.9791\n",
      "Epoch 24/100\n",
      "134/134 [==============================] - 39s 294ms/step - loss: 509.4728 - val_loss: 483.5862\n",
      "Epoch 25/100\n",
      "134/134 [==============================] - 39s 293ms/step - loss: 499.3541 - val_loss: 492.5046\n",
      "Epoch 26/100\n",
      "134/134 [==============================] - 40s 296ms/step - loss: 493.5240 - val_loss: 481.9736\n",
      "Epoch 27/100\n",
      "134/134 [==============================] - 40s 302ms/step - loss: 493.6889 - val_loss: 480.6108\n",
      "Epoch 28/100\n",
      "134/134 [==============================] - 42s 313ms/step - loss: 480.3443 - val_loss: 469.3167\n",
      "Epoch 29/100\n",
      "134/134 [==============================] - 39s 291ms/step - loss: 478.3904 - val_loss: 473.1065\n",
      "Epoch 30/100\n",
      "134/134 [==============================] - 42s 312ms/step - loss: 474.3301 - val_loss: 469.6162\n",
      "Epoch 31/100\n",
      "134/134 [==============================] - 41s 303ms/step - loss: 468.6741 - val_loss: 465.8532\n",
      "Epoch 32/100\n",
      "134/134 [==============================] - 40s 296ms/step - loss: 466.8513 - val_loss: 470.7328\n",
      "Epoch 33/100\n",
      "134/134 [==============================] - 39s 294ms/step - loss: 466.0447 - val_loss: 452.2122\n",
      "Epoch 34/100\n",
      "134/134 [==============================] - 40s 301ms/step - loss: 458.2718 - val_loss: 462.8766\n",
      "Epoch 35/100\n",
      "134/134 [==============================] - 41s 304ms/step - loss: 457.2048 - val_loss: 448.1239\n",
      "Epoch 36/100\n",
      "134/134 [==============================] - 40s 297ms/step - loss: 454.6801 - val_loss: 452.5032\n",
      "Epoch 37/100\n",
      "134/134 [==============================] - 40s 296ms/step - loss: 458.6273 - val_loss: 531.0220\n",
      "Epoch 38/100\n",
      "134/134 [==============================] - 40s 296ms/step - loss: 456.4707 - val_loss: 438.3651\n",
      "Epoch 39/100\n",
      "134/134 [==============================] - 39s 295ms/step - loss: 442.1714 - val_loss: 451.1126\n",
      "Epoch 40/100\n",
      "134/134 [==============================] - 40s 297ms/step - loss: 440.4452 - val_loss: 437.2574\n",
      "Epoch 41/100\n",
      "134/134 [==============================] - 40s 297ms/step - loss: 433.2764 - val_loss: 436.2929\n",
      "Epoch 42/100\n",
      "134/134 [==============================] - 40s 298ms/step - loss: 431.7399 - val_loss: 431.6494\n",
      "Epoch 43/100\n",
      "134/134 [==============================] - 41s 310ms/step - loss: 429.4129 - val_loss: 428.0287\n",
      "Epoch 44/100\n",
      "134/134 [==============================] - 40s 300ms/step - loss: 430.3483 - val_loss: 422.9404\n",
      "Epoch 45/100\n",
      "134/134 [==============================] - 40s 300ms/step - loss: 424.4468 - val_loss: 421.1463\n",
      "Epoch 46/100\n",
      "134/134 [==============================] - 40s 300ms/step - loss: 422.0538 - val_loss: 422.3945\n",
      "Epoch 47/100\n",
      "134/134 [==============================] - 40s 300ms/step - loss: 418.1129 - val_loss: 410.9300\n",
      "Epoch 48/100\n",
      "134/134 [==============================] - 41s 304ms/step - loss: 418.3336 - val_loss: 408.9359\n",
      "Epoch 49/100\n",
      "134/134 [==============================] - 40s 298ms/step - loss: 413.5892 - val_loss: 411.1452\n",
      "Epoch 50/100\n",
      "134/134 [==============================] - 41s 302ms/step - loss: 412.2115 - val_loss: 411.7310\n",
      "Epoch 51/100\n",
      "134/134 [==============================] - 44s 325ms/step - loss: 421.2813 - val_loss: 415.7462\n",
      "Epoch 52/100\n",
      "134/134 [==============================] - 40s 298ms/step - loss: 413.1232 - val_loss: 401.8908\n",
      "Epoch 53/100\n",
      "134/134 [==============================] - 40s 298ms/step - loss: 400.3003 - val_loss: 394.4199\n",
      "Epoch 54/100\n",
      "134/134 [==============================] - 40s 301ms/step - loss: 399.2411 - val_loss: 403.5166\n",
      "Epoch 55/100\n",
      "134/134 [==============================] - 40s 299ms/step - loss: 400.4554 - val_loss: 399.7720\n",
      "Epoch 56/100\n",
      "134/134 [==============================] - 40s 301ms/step - loss: 403.1169 - val_loss: 403.1914\n",
      "Epoch 57/100\n",
      "134/134 [==============================] - 50s 371ms/step - loss: 394.8242 - val_loss: 393.8492\n",
      "Epoch 58/100\n",
      "134/134 [==============================] - 56s 418ms/step - loss: 396.0715 - val_loss: 398.2590\n",
      "Epoch 59/100\n",
      "134/134 [==============================] - 48s 359ms/step - loss: 395.9968 - val_loss: 390.1719\n",
      "Epoch 60/100\n",
      "134/134 [==============================] - 47s 351ms/step - loss: 390.3204 - val_loss: 399.2861\n",
      "Epoch 61/100\n",
      "134/134 [==============================] - 45s 336ms/step - loss: 388.0434 - val_loss: 395.0526\n",
      "Epoch 62/100\n",
      "134/134 [==============================] - 44s 331ms/step - loss: 384.4159 - val_loss: 389.9806\n",
      "Epoch 63/100\n",
      "134/134 [==============================] - 50s 375ms/step - loss: 391.6521 - val_loss: 394.7872\n",
      "Epoch 64/100\n",
      "134/134 [==============================] - 49s 362ms/step - loss: 387.5988 - val_loss: 380.8014\n",
      "Epoch 65/100\n",
      "134/134 [==============================] - 48s 356ms/step - loss: 380.9780 - val_loss: 394.0474\n",
      "Epoch 66/100\n",
      "134/134 [==============================] - 48s 357ms/step - loss: 390.2809 - val_loss: 378.3851\n",
      "Epoch 67/100\n",
      "134/134 [==============================] - 48s 360ms/step - loss: 376.6628 - val_loss: 376.1326\n",
      "Epoch 68/100\n",
      "134/134 [==============================] - 48s 360ms/step - loss: 379.5817 - val_loss: 381.6019\n",
      "Epoch 69/100\n",
      "134/134 [==============================] - 49s 365ms/step - loss: 377.0818 - val_loss: 371.4048\n",
      "Epoch 70/100\n",
      "134/134 [==============================] - 49s 364ms/step - loss: 378.6867 - val_loss: 380.8268\n",
      "Epoch 71/100\n",
      "134/134 [==============================] - 50s 375ms/step - loss: 376.3456 - val_loss: 390.8814\n",
      "Epoch 72/100\n",
      "134/134 [==============================] - 48s 359ms/step - loss: 376.4924 - val_loss: 382.5425\n",
      "Epoch 73/100\n",
      "134/134 [==============================] - 49s 362ms/step - loss: 371.4348 - val_loss: 384.7981\n",
      "Epoch 74/100\n",
      "134/134 [==============================] - 48s 360ms/step - loss: 372.6318 - val_loss: 371.3759\n",
      "Epoch 75/100\n",
      "134/134 [==============================] - 48s 357ms/step - loss: 372.5942 - val_loss: 381.0708\n",
      "Epoch 76/100\n",
      "134/134 [==============================] - 49s 363ms/step - loss: 387.5008 - val_loss: 378.9380\n",
      "Epoch 77/100\n",
      "134/134 [==============================] - 48s 360ms/step - loss: 364.0683 - val_loss: 365.9028\n",
      "Epoch 78/100\n",
      "134/134 [==============================] - 50s 374ms/step - loss: 364.3275 - val_loss: 359.5850\n",
      "Epoch 79/100\n",
      "134/134 [==============================] - 47s 350ms/step - loss: 361.0045 - val_loss: 365.3386\n",
      "Epoch 80/100\n",
      "134/134 [==============================] - 49s 365ms/step - loss: 364.1657 - val_loss: 360.4077\n",
      "Epoch 81/100\n",
      "134/134 [==============================] - 48s 359ms/step - loss: 361.6803 - val_loss: 367.6296\n",
      "Epoch 82/100\n",
      "134/134 [==============================] - 48s 357ms/step - loss: 365.7344 - val_loss: 360.5281\n",
      "Epoch 83/100\n",
      "134/134 [==============================] - 51s 378ms/step - loss: 361.1092 - val_loss: 365.5194\n"
     ]
    },
    {
     "data": {
      "text/plain": [
       "<keras.src.callbacks.History at 0x1a369c0cf90>"
      ]
     },
     "execution_count": 7,
     "metadata": {},
     "output_type": "execute_result"
    }
   ],
   "source": [
    "early_stopping = EarlyStopping(monitor='val_loss', patience=5, restore_best_weights=True)\n",
    "autoencoder.fit(x_train, x_train, epochs=100, batch_size=64, validation_data=(x_val, x_val), callbacks=[early_stopping])"
   ]
  },
  {
   "cell_type": "markdown",
   "metadata": {},
   "source": [
    "### Pipe PCA (linear dimension reduction) with decoder"
   ]
  },
  {
   "cell_type": "code",
   "execution_count": 40,
   "metadata": {},
   "outputs": [],
   "source": [
    "from sklearn.decomposition import PCA\n",
    "from sklearn.metrics import mean_squared_error"
   ]
  },
  {
   "cell_type": "code",
   "execution_count": 41,
   "metadata": {},
   "outputs": [
    {
     "name": "stdout",
     "output_type": "stream",
     "text": [
      "x_train_pca shape: (8538, 9)\n",
      "x_val_pca shape: (582, 9)\n"
     ]
    }
   ],
   "source": [
    "x_train_flatten = x_train.reshape((x_train.shape[0], -1))\n",
    "x_val_flatten = x_val.reshape((x_val.shape[0], -1))\n",
    "\n",
    "pca = PCA(n_components=9)\n",
    "x_train_pca = pca.fit_transform(x_train_flatten)\n",
    "x_val_pca = pca.transform(x_val_flatten)\n",
    "\n",
    "print(\"x_train_pca shape:\", x_train_pca.shape)\n",
    "print(\"x_val_pca shape:\", x_val_pca.shape)"
   ]
  },
  {
   "cell_type": "markdown",
   "metadata": {},
   "source": [
    "### MSE Loss on PCA Inverse Transform"
   ]
  },
  {
   "cell_type": "code",
   "execution_count": 49,
   "metadata": {},
   "outputs": [
    {
     "name": "stdout",
     "output_type": "stream",
     "text": [
      "MSE Loss on Training Data: 852.550436347354\n",
      "MSE Loss on Validation Data: 830.2604379859235\n"
     ]
    }
   ],
   "source": [
    "x_train_reconstructed = pca.inverse_transform(x_train_pca)\n",
    "x_val_reconstructed = pca.inverse_transform(x_val_pca)\n",
    "\n",
    "mse_train = mean_squared_error(x_train.reshape(x_train.shape[0],-1), x_train_reconstructed)\n",
    "mse_val = mean_squared_error(x_val.reshape(x_val.shape[0], -1), x_val_reconstructed)\n",
    "\n",
    "print(f\"MSE Loss on Training Data: {mse_train}\")\n",
    "print(f\"MSE Loss on Validation Data: {mse_val}\")"
   ]
  },
  {
   "cell_type": "code",
   "execution_count": 9,
   "metadata": {},
   "outputs": [
    {
     "name": "stdout",
     "output_type": "stream",
     "text": [
      "Model: \"pca_decoder\"\n",
      "_________________________________________________________________\n",
      " Layer (type)                Output Shape              Param #   \n",
      "=================================================================\n",
      " dense_4 (Dense)             (None, 120)               1200      \n",
      "                                                                 \n",
      " leaky_re_lu_4 (LeakyReLU)   (None, 120)               0         \n",
      "                                                                 \n",
      " dense_5 (Dense)             (None, 50176)             6071296   \n",
      "                                                                 \n",
      " leaky_re_lu_5 (LeakyReLU)   (None, 50176)             0         \n",
      "                                                                 \n",
      " reshape_1 (Reshape)         (None, 224, 224, 1)       0         \n",
      "                                                                 \n",
      "=================================================================\n",
      "Total params: 6072496 (23.16 MB)\n",
      "Trainable params: 6072496 (23.16 MB)\n",
      "Non-trainable params: 0 (0.00 Byte)\n",
      "_________________________________________________________________\n"
     ]
    }
   ],
   "source": [
    "# Define the decoder\n",
    "pca_decoder = Sequential([\n",
    "    Dense(120, input_shape=(9,)),\n",
    "    LeakyReLU(alpha=0.1),\n",
    "    \n",
    "    Dense(224 * 224),\n",
    "    LeakyReLU(alpha=0.1),\n",
    "    \n",
    "    Reshape((224, 224, 1))\n",
    "], name=\"pca_decoder\")\n",
    "\n",
    "pca_decoder.compile(optimizer='adam', loss='mse')\n",
    "pca_decoder.summary()"
   ]
  },
  {
   "cell_type": "markdown",
   "metadata": {},
   "source": [
    "### MSE Loss on PCA + Decoder"
   ]
  },
  {
   "cell_type": "code",
   "execution_count": 11,
   "metadata": {},
   "outputs": [
    {
     "name": "stdout",
     "output_type": "stream",
     "text": [
      "Epoch 1/100\n",
      "134/134 [==============================] - 17s 119ms/step - loss: 1146.5815 - val_loss: 877.1307\n",
      "Epoch 2/100\n",
      "134/134 [==============================] - 17s 129ms/step - loss: 844.2220 - val_loss: 799.5322\n",
      "Epoch 3/100\n",
      "134/134 [==============================] - 14s 108ms/step - loss: 793.8442 - val_loss: 782.5869\n",
      "Epoch 4/100\n",
      "134/134 [==============================] - 14s 105ms/step - loss: 768.4728 - val_loss: 745.5298\n",
      "Epoch 5/100\n",
      "134/134 [==============================] - 14s 108ms/step - loss: 745.1210 - val_loss: 725.2252\n",
      "Epoch 6/100\n",
      "134/134 [==============================] - 14s 107ms/step - loss: 725.4292 - val_loss: 709.6722\n",
      "Epoch 7/100\n",
      "134/134 [==============================] - 14s 105ms/step - loss: 710.7993 - val_loss: 704.0375\n",
      "Epoch 8/100\n",
      "134/134 [==============================] - 15s 111ms/step - loss: 703.2197 - val_loss: 691.8526\n",
      "Epoch 9/100\n",
      "134/134 [==============================] - 15s 114ms/step - loss: 692.1844 - val_loss: 678.1227\n",
      "Epoch 10/100\n",
      "134/134 [==============================] - 13s 100ms/step - loss: 683.7822 - val_loss: 677.7463\n",
      "Epoch 11/100\n",
      "134/134 [==============================] - 14s 103ms/step - loss: 676.7351 - val_loss: 666.0891\n",
      "Epoch 12/100\n",
      "134/134 [==============================] - 14s 103ms/step - loss: 667.7855 - val_loss: 661.2990\n",
      "Epoch 13/100\n",
      "134/134 [==============================] - 13s 101ms/step - loss: 665.4837 - val_loss: 659.8947\n",
      "Epoch 14/100\n",
      "134/134 [==============================] - 14s 103ms/step - loss: 662.4622 - val_loss: 654.8263\n",
      "Epoch 15/100\n",
      "134/134 [==============================] - 14s 106ms/step - loss: 658.1068 - val_loss: 646.1712\n",
      "Epoch 16/100\n",
      "134/134 [==============================] - 17s 124ms/step - loss: 649.9042 - val_loss: 640.0244\n",
      "Epoch 17/100\n",
      "134/134 [==============================] - 14s 108ms/step - loss: 649.6279 - val_loss: 635.3163\n",
      "Epoch 18/100\n",
      "134/134 [==============================] - 16s 122ms/step - loss: 643.3915 - val_loss: 641.1393\n",
      "Epoch 19/100\n",
      "134/134 [==============================] - 18s 133ms/step - loss: 639.9148 - val_loss: 631.4761\n",
      "Epoch 20/100\n",
      "134/134 [==============================] - 16s 118ms/step - loss: 638.6827 - val_loss: 632.0801\n",
      "Epoch 21/100\n",
      "134/134 [==============================] - 17s 124ms/step - loss: 635.2123 - val_loss: 642.7465\n",
      "Epoch 22/100\n",
      "134/134 [==============================] - 17s 130ms/step - loss: 634.7291 - val_loss: 633.2124\n",
      "Epoch 23/100\n",
      "134/134 [==============================] - 16s 118ms/step - loss: 630.9965 - val_loss: 633.6990\n",
      "Epoch 24/100\n",
      "134/134 [==============================] - 18s 133ms/step - loss: 631.3519 - val_loss: 633.4125\n"
     ]
    },
    {
     "data": {
      "text/plain": [
       "<keras.src.callbacks.History at 0x1a36dc98f90>"
      ]
     },
     "execution_count": 11,
     "metadata": {},
     "output_type": "execute_result"
    }
   ],
   "source": [
    "pca_decoder.fit(x_train_pca, x_train, epochs=100, batch_size=64, validation_data=(x_val_pca, x_val), callbacks=[early_stopping])"
   ]
  },
  {
   "cell_type": "markdown",
   "metadata": {},
   "source": [
    "### Classify images with encoder neural network"
   ]
  },
  {
   "cell_type": "code",
   "execution_count": 12,
   "metadata": {},
   "outputs": [
    {
     "name": "stdout",
     "output_type": "stream",
     "text": [
      "Epoch 1/100\n",
      "267/267 [==============================] - 42s 154ms/step - loss: 30.2008 - accuracy: 0.7467 - val_loss: 4.8352 - val_accuracy: 0.8591\n",
      "Epoch 2/100\n",
      "267/267 [==============================] - 41s 154ms/step - loss: 6.6809 - accuracy: 0.8572 - val_loss: 20.7972 - val_accuracy: 0.5945\n",
      "Epoch 3/100\n",
      "267/267 [==============================] - 40s 149ms/step - loss: 4.0326 - accuracy: 0.9063 - val_loss: 1.3792 - val_accuracy: 0.9536\n",
      "Epoch 4/100\n",
      "267/267 [==============================] - 43s 160ms/step - loss: 2.1450 - accuracy: 0.9352 - val_loss: 2.7547 - val_accuracy: 0.9175\n",
      "Epoch 5/100\n",
      "267/267 [==============================] - 40s 150ms/step - loss: 1.6394 - accuracy: 0.9442 - val_loss: 1.3954 - val_accuracy: 0.9399\n",
      "Epoch 6/100\n",
      "267/267 [==============================] - 40s 151ms/step - loss: 1.3939 - accuracy: 0.9512 - val_loss: 0.7956 - val_accuracy: 0.9691\n",
      "Epoch 7/100\n",
      "267/267 [==============================] - 42s 159ms/step - loss: 0.6926 - accuracy: 0.9665 - val_loss: 0.2634 - val_accuracy: 0.9794\n",
      "Epoch 8/100\n",
      "267/267 [==============================] - 41s 153ms/step - loss: 2.5904 - accuracy: 0.9397 - val_loss: 5.6963 - val_accuracy: 0.8918\n",
      "Epoch 9/100\n",
      "267/267 [==============================] - 42s 156ms/step - loss: 2.6281 - accuracy: 0.9446 - val_loss: 0.2729 - val_accuracy: 0.9863\n",
      "Epoch 10/100\n",
      "267/267 [==============================] - 42s 158ms/step - loss: 1.2847 - accuracy: 0.9660 - val_loss: 0.3010 - val_accuracy: 0.9914\n",
      "Epoch 11/100\n",
      "267/267 [==============================] - 42s 157ms/step - loss: 0.9870 - accuracy: 0.9690 - val_loss: 0.5136 - val_accuracy: 0.9828\n",
      "Epoch 12/100\n",
      "267/267 [==============================] - 42s 155ms/step - loss: 6.8532 - accuracy: 0.9276 - val_loss: 0.8147 - val_accuracy: 0.9811\n",
      "Epoch 13/100\n",
      "267/267 [==============================] - 42s 156ms/step - loss: 1.7613 - accuracy: 0.9653 - val_loss: 1.5755 - val_accuracy: 0.9777\n",
      "Epoch 14/100\n",
      "267/267 [==============================] - 42s 156ms/step - loss: 1.1721 - accuracy: 0.9741 - val_loss: 0.1281 - val_accuracy: 0.9931\n",
      "Epoch 15/100\n",
      "267/267 [==============================] - 43s 160ms/step - loss: 0.3120 - accuracy: 0.9881 - val_loss: 0.6376 - val_accuracy: 0.9845\n",
      "Epoch 16/100\n",
      "267/267 [==============================] - 44s 164ms/step - loss: 0.4503 - accuracy: 0.9881 - val_loss: 0.6534 - val_accuracy: 0.9777\n",
      "Epoch 17/100\n",
      "267/267 [==============================] - 41s 152ms/step - loss: 0.6379 - accuracy: 0.9849 - val_loss: 0.7947 - val_accuracy: 0.9828\n",
      "Epoch 18/100\n",
      "267/267 [==============================] - 40s 148ms/step - loss: 0.9999 - accuracy: 0.9781 - val_loss: 1.1808 - val_accuracy: 0.9811\n",
      "Epoch 19/100\n",
      "267/267 [==============================] - 41s 152ms/step - loss: 1.0614 - accuracy: 0.9790 - val_loss: 0.1020 - val_accuracy: 0.9966\n",
      "Epoch 20/100\n",
      "267/267 [==============================] - 40s 149ms/step - loss: 0.1800 - accuracy: 0.9938 - val_loss: 0.6201 - val_accuracy: 0.9897\n",
      "Epoch 21/100\n",
      "267/267 [==============================] - 40s 151ms/step - loss: 0.7606 - accuracy: 0.9870 - val_loss: 2.5481 - val_accuracy: 0.9708\n",
      "Epoch 22/100\n",
      "267/267 [==============================] - 40s 149ms/step - loss: 0.9705 - accuracy: 0.9827 - val_loss: 0.3788 - val_accuracy: 0.9863\n",
      "Epoch 23/100\n",
      "267/267 [==============================] - 40s 149ms/step - loss: 2.9880 - accuracy: 0.9599 - val_loss: 0.5233 - val_accuracy: 0.9880\n",
      "Epoch 24/100\n",
      "267/267 [==============================] - 40s 149ms/step - loss: 1.6494 - accuracy: 0.9760 - val_loss: 1.4967 - val_accuracy: 0.9794\n"
     ]
    },
    {
     "data": {
      "text/plain": [
       "<keras.src.callbacks.History at 0x1a374780410>"
      ]
     },
     "execution_count": 12,
     "metadata": {},
     "output_type": "execute_result"
    }
   ],
   "source": [
    "classifier_layer = Sequential([\n",
    "    Dense(1, activation='sigmoid', input_shape=(9,))\n",
    "], name=\"nn_classifier\")\n",
    "\n",
    "encoded_input = Input(shape=input_shape)\n",
    "encoded_output = encoder(encoded_input)\n",
    "classification_output = classifier_layer(encoded_output)\n",
    "nn_classifier = Model(encoded_input, classification_output)\n",
    "\n",
    "nn_classifier.compile(optimizer='adam', loss='binary_crossentropy', metrics=['accuracy'])\n",
    "\n",
    "early_stopping = EarlyStopping(monitor='val_accuracy', patience=5, restore_best_weights=True)\n",
    "\n",
    "nn_classifier.fit(x_train, y_train, epochs=100, batch_size=32, validation_data=(x_val, y_val), callbacks=[early_stopping])"
   ]
  },
  {
   "cell_type": "markdown",
   "metadata": {},
   "source": [
    "### PCA variance at first 9 components"
   ]
  },
  {
   "cell_type": "code",
   "execution_count": 20,
   "metadata": {},
   "outputs": [
    {
     "data": {
      "text/plain": [
       "0.6026426973329506"
      ]
     },
     "execution_count": 20,
     "metadata": {},
     "output_type": "execute_result"
    }
   ],
   "source": [
    "sum(pca.explained_variance_ratio_)"
   ]
  },
  {
   "cell_type": "code",
   "execution_count": 33,
   "metadata": {},
   "outputs": [
    {
     "name": "stdout",
     "output_type": "stream",
     "text": [
      "Epoch 1/100\n",
      "134/134 [==============================] - 1s 4ms/step - loss: 1104.1412 - accuracy: 0.5080 - val_loss: 870.3793 - val_accuracy: 0.5430\n",
      "Epoch 2/100\n",
      "134/134 [==============================] - 0s 2ms/step - loss: 741.9011 - accuracy: 0.5231 - val_loss: 545.1534 - val_accuracy: 0.5739\n",
      "Epoch 3/100\n",
      "134/134 [==============================] - 0s 2ms/step - loss: 426.5639 - accuracy: 0.5538 - val_loss: 265.5727 - val_accuracy: 0.5842\n",
      "Epoch 4/100\n",
      "134/134 [==============================] - 0s 2ms/step - loss: 159.9816 - accuracy: 0.5814 - val_loss: 55.7009 - val_accuracy: 0.6134\n",
      "Epoch 5/100\n",
      "134/134 [==============================] - 0s 2ms/step - loss: 12.6731 - accuracy: 0.5704 - val_loss: 0.7002 - val_accuracy: 0.6375\n",
      "Epoch 6/100\n",
      "134/134 [==============================] - 0s 2ms/step - loss: 0.8961 - accuracy: 0.5622 - val_loss: 0.8758 - val_accuracy: 0.5155\n",
      "Epoch 7/100\n",
      "134/134 [==============================] - 0s 2ms/step - loss: 0.8337 - accuracy: 0.5743 - val_loss: 0.8365 - val_accuracy: 0.5172\n",
      "Epoch 8/100\n",
      "134/134 [==============================] - 0s 2ms/step - loss: 0.9156 - accuracy: 0.5613 - val_loss: 1.0918 - val_accuracy: 0.5378\n",
      "Epoch 9/100\n",
      "134/134 [==============================] - 0s 2ms/step - loss: 0.9743 - accuracy: 0.5643 - val_loss: 1.1335 - val_accuracy: 0.4708\n",
      "Epoch 10/100\n",
      "134/134 [==============================] - 0s 2ms/step - loss: 0.9184 - accuracy: 0.5654 - val_loss: 0.8165 - val_accuracy: 0.6615\n",
      "Epoch 11/100\n",
      "134/134 [==============================] - 0s 2ms/step - loss: 0.8676 - accuracy: 0.5704 - val_loss: 1.1109 - val_accuracy: 0.5137\n",
      "Epoch 12/100\n",
      "134/134 [==============================] - 0s 2ms/step - loss: 0.9867 - accuracy: 0.5655 - val_loss: 0.8360 - val_accuracy: 0.5172\n",
      "Epoch 13/100\n",
      "134/134 [==============================] - 0s 2ms/step - loss: 0.8941 - accuracy: 0.5572 - val_loss: 0.6854 - val_accuracy: 0.5790\n",
      "Epoch 14/100\n",
      "134/134 [==============================] - 0s 2ms/step - loss: 0.8910 - accuracy: 0.5744 - val_loss: 0.8396 - val_accuracy: 0.5378\n",
      "Epoch 15/100\n",
      "134/134 [==============================] - 0s 2ms/step - loss: 0.9298 - accuracy: 0.5601 - val_loss: 0.8891 - val_accuracy: 0.6048\n",
      "Epoch 16/100\n",
      "134/134 [==============================] - 0s 2ms/step - loss: 0.9344 - accuracy: 0.5629 - val_loss: 0.7757 - val_accuracy: 0.5825\n",
      "Epoch 17/100\n",
      "134/134 [==============================] - 0s 2ms/step - loss: 0.9120 - accuracy: 0.5662 - val_loss: 1.0576 - val_accuracy: 0.6100\n",
      "Epoch 18/100\n",
      "134/134 [==============================] - 0s 3ms/step - loss: 0.9646 - accuracy: 0.5637 - val_loss: 1.0873 - val_accuracy: 0.4897\n",
      "Epoch 19/100\n",
      "134/134 [==============================] - 0s 2ms/step - loss: 0.9282 - accuracy: 0.5679 - val_loss: 0.9584 - val_accuracy: 0.5945\n",
      "Epoch 20/100\n",
      "134/134 [==============================] - 0s 2ms/step - loss: 0.9941 - accuracy: 0.5636 - val_loss: 0.9631 - val_accuracy: 0.6426\n"
     ]
    },
    {
     "data": {
      "text/plain": [
       "<keras.src.callbacks.History at 0x1a37a62aa10>"
      ]
     },
     "execution_count": 33,
     "metadata": {},
     "output_type": "execute_result"
    }
   ],
   "source": [
    "pca_classifier = Sequential([\n",
    "    Input(shape=(9,)),\n",
    "    Dense(1, activation='sigmoid')\n",
    "], name=\"pca_classifier\")\n",
    "\n",
    "pca_classifier.compile(optimizer='adam', loss='binary_crossentropy', metrics=['accuracy'])\n",
    "early_stopping = EarlyStopping(monitor='val_accuracy', patience=10, restore_best_weights=True)\n",
    "pca_classifier.fit(x_train_pca, y_train, epochs=100, batch_size=64, validation_data=(x_val_pca, y_val), callbacks=[early_stopping])"
   ]
  },
  {
   "cell_type": "code",
   "execution_count": 24,
   "metadata": {},
   "outputs": [
    {
     "data": {
      "text/plain": [
       "((392, 224, 224, 1), (392, 1))"
      ]
     },
     "execution_count": 24,
     "metadata": {},
     "output_type": "execute_result"
    }
   ],
   "source": [
    "test_fractured, test_nfractured = get_img_paths('test')\n",
    "x_1, y_1 = prep_data(test_fractured, 1)\n",
    "x_0, y_0 = prep_data(test_nfractured, 0)\n",
    "x_test = np.concatenate([x_0,x_1], axis=0)\n",
    "x_test = np.expand_dims(x_test, axis=-1)\n",
    "y_test = np.concatenate([y_0,y_1], axis=0)\n",
    "x_test.shape, y_test.shape"
   ]
  },
  {
   "cell_type": "code",
   "execution_count": 37,
   "metadata": {},
   "outputs": [],
   "source": [
    "from sklearn.metrics import confusion_matrix\n",
    "import plotly.express as px\n",
    "\n",
    "def make_cx(y_true, y_pred, model_name = ''):\n",
    "    cm = confusion_matrix(y_true, y_pred)\n",
    "\n",
    "    fig = px.imshow(\n",
    "        cm,\n",
    "        text_auto=True,\n",
    "        labels=dict(x=\"Predicted Label\", y=\"True Label\", color=\"Count\"),\n",
    "        x=['Predicted fractured', 'Predicted nonfractured'],\n",
    "        y=['Actual fractured', 'Actual nonfractured'],\n",
    "        title=\"Confusion Matrix: \" + model_name\n",
    "    )\n",
    "\n",
    "    return fig.show()"
   ]
  },
  {
   "cell_type": "code",
   "execution_count": 38,
   "metadata": {},
   "outputs": [
    {
     "name": "stdout",
     "output_type": "stream",
     "text": [
      "13/13 [==============================] - 0s 18ms/step\n"
     ]
    },
    {
     "data": {
      "application/vnd.plotly.v1+json": {
       "config": {
        "plotlyServerURL": "https://plot.ly"
       },
       "data": [
        {
         "coloraxis": "coloraxis",
         "hovertemplate": "Predicted Label: %{x}<br>True Label: %{y}<br>Count: %{z}<extra></extra>",
         "name": "0",
         "texttemplate": "%{z}",
         "type": "heatmap",
         "x": [
          "Predicted fractured",
          "Predicted nonfractured"
         ],
         "xaxis": "x",
         "y": [
          "Actual fractured",
          "Actual nonfractured"
         ],
         "yaxis": "y",
         "z": [
          [
           195,
           0
          ],
          [
           11,
           186
          ]
         ]
        }
       ],
       "layout": {
        "coloraxis": {
         "colorbar": {
          "title": {
           "text": "Count"
          }
         },
         "colorscale": [
          [
           0,
           "#0d0887"
          ],
          [
           0.1111111111111111,
           "#46039f"
          ],
          [
           0.2222222222222222,
           "#7201a8"
          ],
          [
           0.3333333333333333,
           "#9c179e"
          ],
          [
           0.4444444444444444,
           "#bd3786"
          ],
          [
           0.5555555555555556,
           "#d8576b"
          ],
          [
           0.6666666666666666,
           "#ed7953"
          ],
          [
           0.7777777777777778,
           "#fb9f3a"
          ],
          [
           0.8888888888888888,
           "#fdca26"
          ],
          [
           1,
           "#f0f921"
          ]
         ]
        },
        "template": {
         "data": {
          "bar": [
           {
            "error_x": {
             "color": "#2a3f5f"
            },
            "error_y": {
             "color": "#2a3f5f"
            },
            "marker": {
             "line": {
              "color": "#E5ECF6",
              "width": 0.5
             },
             "pattern": {
              "fillmode": "overlay",
              "size": 10,
              "solidity": 0.2
             }
            },
            "type": "bar"
           }
          ],
          "barpolar": [
           {
            "marker": {
             "line": {
              "color": "#E5ECF6",
              "width": 0.5
             },
             "pattern": {
              "fillmode": "overlay",
              "size": 10,
              "solidity": 0.2
             }
            },
            "type": "barpolar"
           }
          ],
          "carpet": [
           {
            "aaxis": {
             "endlinecolor": "#2a3f5f",
             "gridcolor": "white",
             "linecolor": "white",
             "minorgridcolor": "white",
             "startlinecolor": "#2a3f5f"
            },
            "baxis": {
             "endlinecolor": "#2a3f5f",
             "gridcolor": "white",
             "linecolor": "white",
             "minorgridcolor": "white",
             "startlinecolor": "#2a3f5f"
            },
            "type": "carpet"
           }
          ],
          "choropleth": [
           {
            "colorbar": {
             "outlinewidth": 0,
             "ticks": ""
            },
            "type": "choropleth"
           }
          ],
          "contour": [
           {
            "colorbar": {
             "outlinewidth": 0,
             "ticks": ""
            },
            "colorscale": [
             [
              0,
              "#0d0887"
             ],
             [
              0.1111111111111111,
              "#46039f"
             ],
             [
              0.2222222222222222,
              "#7201a8"
             ],
             [
              0.3333333333333333,
              "#9c179e"
             ],
             [
              0.4444444444444444,
              "#bd3786"
             ],
             [
              0.5555555555555556,
              "#d8576b"
             ],
             [
              0.6666666666666666,
              "#ed7953"
             ],
             [
              0.7777777777777778,
              "#fb9f3a"
             ],
             [
              0.8888888888888888,
              "#fdca26"
             ],
             [
              1,
              "#f0f921"
             ]
            ],
            "type": "contour"
           }
          ],
          "contourcarpet": [
           {
            "colorbar": {
             "outlinewidth": 0,
             "ticks": ""
            },
            "type": "contourcarpet"
           }
          ],
          "heatmap": [
           {
            "colorbar": {
             "outlinewidth": 0,
             "ticks": ""
            },
            "colorscale": [
             [
              0,
              "#0d0887"
             ],
             [
              0.1111111111111111,
              "#46039f"
             ],
             [
              0.2222222222222222,
              "#7201a8"
             ],
             [
              0.3333333333333333,
              "#9c179e"
             ],
             [
              0.4444444444444444,
              "#bd3786"
             ],
             [
              0.5555555555555556,
              "#d8576b"
             ],
             [
              0.6666666666666666,
              "#ed7953"
             ],
             [
              0.7777777777777778,
              "#fb9f3a"
             ],
             [
              0.8888888888888888,
              "#fdca26"
             ],
             [
              1,
              "#f0f921"
             ]
            ],
            "type": "heatmap"
           }
          ],
          "heatmapgl": [
           {
            "colorbar": {
             "outlinewidth": 0,
             "ticks": ""
            },
            "colorscale": [
             [
              0,
              "#0d0887"
             ],
             [
              0.1111111111111111,
              "#46039f"
             ],
             [
              0.2222222222222222,
              "#7201a8"
             ],
             [
              0.3333333333333333,
              "#9c179e"
             ],
             [
              0.4444444444444444,
              "#bd3786"
             ],
             [
              0.5555555555555556,
              "#d8576b"
             ],
             [
              0.6666666666666666,
              "#ed7953"
             ],
             [
              0.7777777777777778,
              "#fb9f3a"
             ],
             [
              0.8888888888888888,
              "#fdca26"
             ],
             [
              1,
              "#f0f921"
             ]
            ],
            "type": "heatmapgl"
           }
          ],
          "histogram": [
           {
            "marker": {
             "pattern": {
              "fillmode": "overlay",
              "size": 10,
              "solidity": 0.2
             }
            },
            "type": "histogram"
           }
          ],
          "histogram2d": [
           {
            "colorbar": {
             "outlinewidth": 0,
             "ticks": ""
            },
            "colorscale": [
             [
              0,
              "#0d0887"
             ],
             [
              0.1111111111111111,
              "#46039f"
             ],
             [
              0.2222222222222222,
              "#7201a8"
             ],
             [
              0.3333333333333333,
              "#9c179e"
             ],
             [
              0.4444444444444444,
              "#bd3786"
             ],
             [
              0.5555555555555556,
              "#d8576b"
             ],
             [
              0.6666666666666666,
              "#ed7953"
             ],
             [
              0.7777777777777778,
              "#fb9f3a"
             ],
             [
              0.8888888888888888,
              "#fdca26"
             ],
             [
              1,
              "#f0f921"
             ]
            ],
            "type": "histogram2d"
           }
          ],
          "histogram2dcontour": [
           {
            "colorbar": {
             "outlinewidth": 0,
             "ticks": ""
            },
            "colorscale": [
             [
              0,
              "#0d0887"
             ],
             [
              0.1111111111111111,
              "#46039f"
             ],
             [
              0.2222222222222222,
              "#7201a8"
             ],
             [
              0.3333333333333333,
              "#9c179e"
             ],
             [
              0.4444444444444444,
              "#bd3786"
             ],
             [
              0.5555555555555556,
              "#d8576b"
             ],
             [
              0.6666666666666666,
              "#ed7953"
             ],
             [
              0.7777777777777778,
              "#fb9f3a"
             ],
             [
              0.8888888888888888,
              "#fdca26"
             ],
             [
              1,
              "#f0f921"
             ]
            ],
            "type": "histogram2dcontour"
           }
          ],
          "mesh3d": [
           {
            "colorbar": {
             "outlinewidth": 0,
             "ticks": ""
            },
            "type": "mesh3d"
           }
          ],
          "parcoords": [
           {
            "line": {
             "colorbar": {
              "outlinewidth": 0,
              "ticks": ""
             }
            },
            "type": "parcoords"
           }
          ],
          "pie": [
           {
            "automargin": true,
            "type": "pie"
           }
          ],
          "scatter": [
           {
            "fillpattern": {
             "fillmode": "overlay",
             "size": 10,
             "solidity": 0.2
            },
            "type": "scatter"
           }
          ],
          "scatter3d": [
           {
            "line": {
             "colorbar": {
              "outlinewidth": 0,
              "ticks": ""
             }
            },
            "marker": {
             "colorbar": {
              "outlinewidth": 0,
              "ticks": ""
             }
            },
            "type": "scatter3d"
           }
          ],
          "scattercarpet": [
           {
            "marker": {
             "colorbar": {
              "outlinewidth": 0,
              "ticks": ""
             }
            },
            "type": "scattercarpet"
           }
          ],
          "scattergeo": [
           {
            "marker": {
             "colorbar": {
              "outlinewidth": 0,
              "ticks": ""
             }
            },
            "type": "scattergeo"
           }
          ],
          "scattergl": [
           {
            "marker": {
             "colorbar": {
              "outlinewidth": 0,
              "ticks": ""
             }
            },
            "type": "scattergl"
           }
          ],
          "scattermapbox": [
           {
            "marker": {
             "colorbar": {
              "outlinewidth": 0,
              "ticks": ""
             }
            },
            "type": "scattermapbox"
           }
          ],
          "scatterpolar": [
           {
            "marker": {
             "colorbar": {
              "outlinewidth": 0,
              "ticks": ""
             }
            },
            "type": "scatterpolar"
           }
          ],
          "scatterpolargl": [
           {
            "marker": {
             "colorbar": {
              "outlinewidth": 0,
              "ticks": ""
             }
            },
            "type": "scatterpolargl"
           }
          ],
          "scatterternary": [
           {
            "marker": {
             "colorbar": {
              "outlinewidth": 0,
              "ticks": ""
             }
            },
            "type": "scatterternary"
           }
          ],
          "surface": [
           {
            "colorbar": {
             "outlinewidth": 0,
             "ticks": ""
            },
            "colorscale": [
             [
              0,
              "#0d0887"
             ],
             [
              0.1111111111111111,
              "#46039f"
             ],
             [
              0.2222222222222222,
              "#7201a8"
             ],
             [
              0.3333333333333333,
              "#9c179e"
             ],
             [
              0.4444444444444444,
              "#bd3786"
             ],
             [
              0.5555555555555556,
              "#d8576b"
             ],
             [
              0.6666666666666666,
              "#ed7953"
             ],
             [
              0.7777777777777778,
              "#fb9f3a"
             ],
             [
              0.8888888888888888,
              "#fdca26"
             ],
             [
              1,
              "#f0f921"
             ]
            ],
            "type": "surface"
           }
          ],
          "table": [
           {
            "cells": {
             "fill": {
              "color": "#EBF0F8"
             },
             "line": {
              "color": "white"
             }
            },
            "header": {
             "fill": {
              "color": "#C8D4E3"
             },
             "line": {
              "color": "white"
             }
            },
            "type": "table"
           }
          ]
         },
         "layout": {
          "annotationdefaults": {
           "arrowcolor": "#2a3f5f",
           "arrowhead": 0,
           "arrowwidth": 1
          },
          "autotypenumbers": "strict",
          "coloraxis": {
           "colorbar": {
            "outlinewidth": 0,
            "ticks": ""
           }
          },
          "colorscale": {
           "diverging": [
            [
             0,
             "#8e0152"
            ],
            [
             0.1,
             "#c51b7d"
            ],
            [
             0.2,
             "#de77ae"
            ],
            [
             0.3,
             "#f1b6da"
            ],
            [
             0.4,
             "#fde0ef"
            ],
            [
             0.5,
             "#f7f7f7"
            ],
            [
             0.6,
             "#e6f5d0"
            ],
            [
             0.7,
             "#b8e186"
            ],
            [
             0.8,
             "#7fbc41"
            ],
            [
             0.9,
             "#4d9221"
            ],
            [
             1,
             "#276419"
            ]
           ],
           "sequential": [
            [
             0,
             "#0d0887"
            ],
            [
             0.1111111111111111,
             "#46039f"
            ],
            [
             0.2222222222222222,
             "#7201a8"
            ],
            [
             0.3333333333333333,
             "#9c179e"
            ],
            [
             0.4444444444444444,
             "#bd3786"
            ],
            [
             0.5555555555555556,
             "#d8576b"
            ],
            [
             0.6666666666666666,
             "#ed7953"
            ],
            [
             0.7777777777777778,
             "#fb9f3a"
            ],
            [
             0.8888888888888888,
             "#fdca26"
            ],
            [
             1,
             "#f0f921"
            ]
           ],
           "sequentialminus": [
            [
             0,
             "#0d0887"
            ],
            [
             0.1111111111111111,
             "#46039f"
            ],
            [
             0.2222222222222222,
             "#7201a8"
            ],
            [
             0.3333333333333333,
             "#9c179e"
            ],
            [
             0.4444444444444444,
             "#bd3786"
            ],
            [
             0.5555555555555556,
             "#d8576b"
            ],
            [
             0.6666666666666666,
             "#ed7953"
            ],
            [
             0.7777777777777778,
             "#fb9f3a"
            ],
            [
             0.8888888888888888,
             "#fdca26"
            ],
            [
             1,
             "#f0f921"
            ]
           ]
          },
          "colorway": [
           "#636efa",
           "#EF553B",
           "#00cc96",
           "#ab63fa",
           "#FFA15A",
           "#19d3f3",
           "#FF6692",
           "#B6E880",
           "#FF97FF",
           "#FECB52"
          ],
          "font": {
           "color": "#2a3f5f"
          },
          "geo": {
           "bgcolor": "white",
           "lakecolor": "white",
           "landcolor": "#E5ECF6",
           "showlakes": true,
           "showland": true,
           "subunitcolor": "white"
          },
          "hoverlabel": {
           "align": "left"
          },
          "hovermode": "closest",
          "mapbox": {
           "style": "light"
          },
          "paper_bgcolor": "white",
          "plot_bgcolor": "#E5ECF6",
          "polar": {
           "angularaxis": {
            "gridcolor": "white",
            "linecolor": "white",
            "ticks": ""
           },
           "bgcolor": "#E5ECF6",
           "radialaxis": {
            "gridcolor": "white",
            "linecolor": "white",
            "ticks": ""
           }
          },
          "scene": {
           "xaxis": {
            "backgroundcolor": "#E5ECF6",
            "gridcolor": "white",
            "gridwidth": 2,
            "linecolor": "white",
            "showbackground": true,
            "ticks": "",
            "zerolinecolor": "white"
           },
           "yaxis": {
            "backgroundcolor": "#E5ECF6",
            "gridcolor": "white",
            "gridwidth": 2,
            "linecolor": "white",
            "showbackground": true,
            "ticks": "",
            "zerolinecolor": "white"
           },
           "zaxis": {
            "backgroundcolor": "#E5ECF6",
            "gridcolor": "white",
            "gridwidth": 2,
            "linecolor": "white",
            "showbackground": true,
            "ticks": "",
            "zerolinecolor": "white"
           }
          },
          "shapedefaults": {
           "line": {
            "color": "#2a3f5f"
           }
          },
          "ternary": {
           "aaxis": {
            "gridcolor": "white",
            "linecolor": "white",
            "ticks": ""
           },
           "baxis": {
            "gridcolor": "white",
            "linecolor": "white",
            "ticks": ""
           },
           "bgcolor": "#E5ECF6",
           "caxis": {
            "gridcolor": "white",
            "linecolor": "white",
            "ticks": ""
           }
          },
          "title": {
           "x": 0.05
          },
          "xaxis": {
           "automargin": true,
           "gridcolor": "white",
           "linecolor": "white",
           "ticks": "",
           "title": {
            "standoff": 15
           },
           "zerolinecolor": "white",
           "zerolinewidth": 2
          },
          "yaxis": {
           "automargin": true,
           "gridcolor": "white",
           "linecolor": "white",
           "ticks": "",
           "title": {
            "standoff": 15
           },
           "zerolinecolor": "white",
           "zerolinewidth": 2
          }
         }
        },
        "title": {
         "text": "Confusion Matrix: Autoencoder"
        },
        "xaxis": {
         "anchor": "y",
         "constrain": "domain",
         "domain": [
          0,
          1
         ],
         "scaleanchor": "y",
         "title": {
          "text": "Predicted Label"
         }
        },
        "yaxis": {
         "anchor": "x",
         "autorange": "reversed",
         "constrain": "domain",
         "domain": [
          0,
          1
         ],
         "title": {
          "text": "True Label"
         }
        }
       }
      }
     },
     "metadata": {},
     "output_type": "display_data"
    }
   ],
   "source": [
    "make_cx(y_test, nn_classifier.predict(x_test).astype(np.int32), 'Autoencoder')"
   ]
  },
  {
   "cell_type": "code",
   "execution_count": 39,
   "metadata": {},
   "outputs": [
    {
     "name": "stdout",
     "output_type": "stream",
     "text": [
      "13/13 [==============================] - 0s 2ms/step\n"
     ]
    },
    {
     "data": {
      "application/vnd.plotly.v1+json": {
       "config": {
        "plotlyServerURL": "https://plot.ly"
       },
       "data": [
        {
         "coloraxis": "coloraxis",
         "hovertemplate": "Predicted Label: %{x}<br>True Label: %{y}<br>Count: %{z}<extra></extra>",
         "name": "0",
         "texttemplate": "%{z}",
         "type": "heatmap",
         "x": [
          "Predicted fractured",
          "Predicted nonfractured"
         ],
         "xaxis": "x",
         "y": [
          "Actual fractured",
          "Actual nonfractured"
         ],
         "yaxis": "y",
         "z": [
          [
           195,
           0
          ],
          [
           197,
           0
          ]
         ]
        }
       ],
       "layout": {
        "coloraxis": {
         "colorbar": {
          "title": {
           "text": "Count"
          }
         },
         "colorscale": [
          [
           0,
           "#0d0887"
          ],
          [
           0.1111111111111111,
           "#46039f"
          ],
          [
           0.2222222222222222,
           "#7201a8"
          ],
          [
           0.3333333333333333,
           "#9c179e"
          ],
          [
           0.4444444444444444,
           "#bd3786"
          ],
          [
           0.5555555555555556,
           "#d8576b"
          ],
          [
           0.6666666666666666,
           "#ed7953"
          ],
          [
           0.7777777777777778,
           "#fb9f3a"
          ],
          [
           0.8888888888888888,
           "#fdca26"
          ],
          [
           1,
           "#f0f921"
          ]
         ]
        },
        "template": {
         "data": {
          "bar": [
           {
            "error_x": {
             "color": "#2a3f5f"
            },
            "error_y": {
             "color": "#2a3f5f"
            },
            "marker": {
             "line": {
              "color": "#E5ECF6",
              "width": 0.5
             },
             "pattern": {
              "fillmode": "overlay",
              "size": 10,
              "solidity": 0.2
             }
            },
            "type": "bar"
           }
          ],
          "barpolar": [
           {
            "marker": {
             "line": {
              "color": "#E5ECF6",
              "width": 0.5
             },
             "pattern": {
              "fillmode": "overlay",
              "size": 10,
              "solidity": 0.2
             }
            },
            "type": "barpolar"
           }
          ],
          "carpet": [
           {
            "aaxis": {
             "endlinecolor": "#2a3f5f",
             "gridcolor": "white",
             "linecolor": "white",
             "minorgridcolor": "white",
             "startlinecolor": "#2a3f5f"
            },
            "baxis": {
             "endlinecolor": "#2a3f5f",
             "gridcolor": "white",
             "linecolor": "white",
             "minorgridcolor": "white",
             "startlinecolor": "#2a3f5f"
            },
            "type": "carpet"
           }
          ],
          "choropleth": [
           {
            "colorbar": {
             "outlinewidth": 0,
             "ticks": ""
            },
            "type": "choropleth"
           }
          ],
          "contour": [
           {
            "colorbar": {
             "outlinewidth": 0,
             "ticks": ""
            },
            "colorscale": [
             [
              0,
              "#0d0887"
             ],
             [
              0.1111111111111111,
              "#46039f"
             ],
             [
              0.2222222222222222,
              "#7201a8"
             ],
             [
              0.3333333333333333,
              "#9c179e"
             ],
             [
              0.4444444444444444,
              "#bd3786"
             ],
             [
              0.5555555555555556,
              "#d8576b"
             ],
             [
              0.6666666666666666,
              "#ed7953"
             ],
             [
              0.7777777777777778,
              "#fb9f3a"
             ],
             [
              0.8888888888888888,
              "#fdca26"
             ],
             [
              1,
              "#f0f921"
             ]
            ],
            "type": "contour"
           }
          ],
          "contourcarpet": [
           {
            "colorbar": {
             "outlinewidth": 0,
             "ticks": ""
            },
            "type": "contourcarpet"
           }
          ],
          "heatmap": [
           {
            "colorbar": {
             "outlinewidth": 0,
             "ticks": ""
            },
            "colorscale": [
             [
              0,
              "#0d0887"
             ],
             [
              0.1111111111111111,
              "#46039f"
             ],
             [
              0.2222222222222222,
              "#7201a8"
             ],
             [
              0.3333333333333333,
              "#9c179e"
             ],
             [
              0.4444444444444444,
              "#bd3786"
             ],
             [
              0.5555555555555556,
              "#d8576b"
             ],
             [
              0.6666666666666666,
              "#ed7953"
             ],
             [
              0.7777777777777778,
              "#fb9f3a"
             ],
             [
              0.8888888888888888,
              "#fdca26"
             ],
             [
              1,
              "#f0f921"
             ]
            ],
            "type": "heatmap"
           }
          ],
          "heatmapgl": [
           {
            "colorbar": {
             "outlinewidth": 0,
             "ticks": ""
            },
            "colorscale": [
             [
              0,
              "#0d0887"
             ],
             [
              0.1111111111111111,
              "#46039f"
             ],
             [
              0.2222222222222222,
              "#7201a8"
             ],
             [
              0.3333333333333333,
              "#9c179e"
             ],
             [
              0.4444444444444444,
              "#bd3786"
             ],
             [
              0.5555555555555556,
              "#d8576b"
             ],
             [
              0.6666666666666666,
              "#ed7953"
             ],
             [
              0.7777777777777778,
              "#fb9f3a"
             ],
             [
              0.8888888888888888,
              "#fdca26"
             ],
             [
              1,
              "#f0f921"
             ]
            ],
            "type": "heatmapgl"
           }
          ],
          "histogram": [
           {
            "marker": {
             "pattern": {
              "fillmode": "overlay",
              "size": 10,
              "solidity": 0.2
             }
            },
            "type": "histogram"
           }
          ],
          "histogram2d": [
           {
            "colorbar": {
             "outlinewidth": 0,
             "ticks": ""
            },
            "colorscale": [
             [
              0,
              "#0d0887"
             ],
             [
              0.1111111111111111,
              "#46039f"
             ],
             [
              0.2222222222222222,
              "#7201a8"
             ],
             [
              0.3333333333333333,
              "#9c179e"
             ],
             [
              0.4444444444444444,
              "#bd3786"
             ],
             [
              0.5555555555555556,
              "#d8576b"
             ],
             [
              0.6666666666666666,
              "#ed7953"
             ],
             [
              0.7777777777777778,
              "#fb9f3a"
             ],
             [
              0.8888888888888888,
              "#fdca26"
             ],
             [
              1,
              "#f0f921"
             ]
            ],
            "type": "histogram2d"
           }
          ],
          "histogram2dcontour": [
           {
            "colorbar": {
             "outlinewidth": 0,
             "ticks": ""
            },
            "colorscale": [
             [
              0,
              "#0d0887"
             ],
             [
              0.1111111111111111,
              "#46039f"
             ],
             [
              0.2222222222222222,
              "#7201a8"
             ],
             [
              0.3333333333333333,
              "#9c179e"
             ],
             [
              0.4444444444444444,
              "#bd3786"
             ],
             [
              0.5555555555555556,
              "#d8576b"
             ],
             [
              0.6666666666666666,
              "#ed7953"
             ],
             [
              0.7777777777777778,
              "#fb9f3a"
             ],
             [
              0.8888888888888888,
              "#fdca26"
             ],
             [
              1,
              "#f0f921"
             ]
            ],
            "type": "histogram2dcontour"
           }
          ],
          "mesh3d": [
           {
            "colorbar": {
             "outlinewidth": 0,
             "ticks": ""
            },
            "type": "mesh3d"
           }
          ],
          "parcoords": [
           {
            "line": {
             "colorbar": {
              "outlinewidth": 0,
              "ticks": ""
             }
            },
            "type": "parcoords"
           }
          ],
          "pie": [
           {
            "automargin": true,
            "type": "pie"
           }
          ],
          "scatter": [
           {
            "fillpattern": {
             "fillmode": "overlay",
             "size": 10,
             "solidity": 0.2
            },
            "type": "scatter"
           }
          ],
          "scatter3d": [
           {
            "line": {
             "colorbar": {
              "outlinewidth": 0,
              "ticks": ""
             }
            },
            "marker": {
             "colorbar": {
              "outlinewidth": 0,
              "ticks": ""
             }
            },
            "type": "scatter3d"
           }
          ],
          "scattercarpet": [
           {
            "marker": {
             "colorbar": {
              "outlinewidth": 0,
              "ticks": ""
             }
            },
            "type": "scattercarpet"
           }
          ],
          "scattergeo": [
           {
            "marker": {
             "colorbar": {
              "outlinewidth": 0,
              "ticks": ""
             }
            },
            "type": "scattergeo"
           }
          ],
          "scattergl": [
           {
            "marker": {
             "colorbar": {
              "outlinewidth": 0,
              "ticks": ""
             }
            },
            "type": "scattergl"
           }
          ],
          "scattermapbox": [
           {
            "marker": {
             "colorbar": {
              "outlinewidth": 0,
              "ticks": ""
             }
            },
            "type": "scattermapbox"
           }
          ],
          "scatterpolar": [
           {
            "marker": {
             "colorbar": {
              "outlinewidth": 0,
              "ticks": ""
             }
            },
            "type": "scatterpolar"
           }
          ],
          "scatterpolargl": [
           {
            "marker": {
             "colorbar": {
              "outlinewidth": 0,
              "ticks": ""
             }
            },
            "type": "scatterpolargl"
           }
          ],
          "scatterternary": [
           {
            "marker": {
             "colorbar": {
              "outlinewidth": 0,
              "ticks": ""
             }
            },
            "type": "scatterternary"
           }
          ],
          "surface": [
           {
            "colorbar": {
             "outlinewidth": 0,
             "ticks": ""
            },
            "colorscale": [
             [
              0,
              "#0d0887"
             ],
             [
              0.1111111111111111,
              "#46039f"
             ],
             [
              0.2222222222222222,
              "#7201a8"
             ],
             [
              0.3333333333333333,
              "#9c179e"
             ],
             [
              0.4444444444444444,
              "#bd3786"
             ],
             [
              0.5555555555555556,
              "#d8576b"
             ],
             [
              0.6666666666666666,
              "#ed7953"
             ],
             [
              0.7777777777777778,
              "#fb9f3a"
             ],
             [
              0.8888888888888888,
              "#fdca26"
             ],
             [
              1,
              "#f0f921"
             ]
            ],
            "type": "surface"
           }
          ],
          "table": [
           {
            "cells": {
             "fill": {
              "color": "#EBF0F8"
             },
             "line": {
              "color": "white"
             }
            },
            "header": {
             "fill": {
              "color": "#C8D4E3"
             },
             "line": {
              "color": "white"
             }
            },
            "type": "table"
           }
          ]
         },
         "layout": {
          "annotationdefaults": {
           "arrowcolor": "#2a3f5f",
           "arrowhead": 0,
           "arrowwidth": 1
          },
          "autotypenumbers": "strict",
          "coloraxis": {
           "colorbar": {
            "outlinewidth": 0,
            "ticks": ""
           }
          },
          "colorscale": {
           "diverging": [
            [
             0,
             "#8e0152"
            ],
            [
             0.1,
             "#c51b7d"
            ],
            [
             0.2,
             "#de77ae"
            ],
            [
             0.3,
             "#f1b6da"
            ],
            [
             0.4,
             "#fde0ef"
            ],
            [
             0.5,
             "#f7f7f7"
            ],
            [
             0.6,
             "#e6f5d0"
            ],
            [
             0.7,
             "#b8e186"
            ],
            [
             0.8,
             "#7fbc41"
            ],
            [
             0.9,
             "#4d9221"
            ],
            [
             1,
             "#276419"
            ]
           ],
           "sequential": [
            [
             0,
             "#0d0887"
            ],
            [
             0.1111111111111111,
             "#46039f"
            ],
            [
             0.2222222222222222,
             "#7201a8"
            ],
            [
             0.3333333333333333,
             "#9c179e"
            ],
            [
             0.4444444444444444,
             "#bd3786"
            ],
            [
             0.5555555555555556,
             "#d8576b"
            ],
            [
             0.6666666666666666,
             "#ed7953"
            ],
            [
             0.7777777777777778,
             "#fb9f3a"
            ],
            [
             0.8888888888888888,
             "#fdca26"
            ],
            [
             1,
             "#f0f921"
            ]
           ],
           "sequentialminus": [
            [
             0,
             "#0d0887"
            ],
            [
             0.1111111111111111,
             "#46039f"
            ],
            [
             0.2222222222222222,
             "#7201a8"
            ],
            [
             0.3333333333333333,
             "#9c179e"
            ],
            [
             0.4444444444444444,
             "#bd3786"
            ],
            [
             0.5555555555555556,
             "#d8576b"
            ],
            [
             0.6666666666666666,
             "#ed7953"
            ],
            [
             0.7777777777777778,
             "#fb9f3a"
            ],
            [
             0.8888888888888888,
             "#fdca26"
            ],
            [
             1,
             "#f0f921"
            ]
           ]
          },
          "colorway": [
           "#636efa",
           "#EF553B",
           "#00cc96",
           "#ab63fa",
           "#FFA15A",
           "#19d3f3",
           "#FF6692",
           "#B6E880",
           "#FF97FF",
           "#FECB52"
          ],
          "font": {
           "color": "#2a3f5f"
          },
          "geo": {
           "bgcolor": "white",
           "lakecolor": "white",
           "landcolor": "#E5ECF6",
           "showlakes": true,
           "showland": true,
           "subunitcolor": "white"
          },
          "hoverlabel": {
           "align": "left"
          },
          "hovermode": "closest",
          "mapbox": {
           "style": "light"
          },
          "paper_bgcolor": "white",
          "plot_bgcolor": "#E5ECF6",
          "polar": {
           "angularaxis": {
            "gridcolor": "white",
            "linecolor": "white",
            "ticks": ""
           },
           "bgcolor": "#E5ECF6",
           "radialaxis": {
            "gridcolor": "white",
            "linecolor": "white",
            "ticks": ""
           }
          },
          "scene": {
           "xaxis": {
            "backgroundcolor": "#E5ECF6",
            "gridcolor": "white",
            "gridwidth": 2,
            "linecolor": "white",
            "showbackground": true,
            "ticks": "",
            "zerolinecolor": "white"
           },
           "yaxis": {
            "backgroundcolor": "#E5ECF6",
            "gridcolor": "white",
            "gridwidth": 2,
            "linecolor": "white",
            "showbackground": true,
            "ticks": "",
            "zerolinecolor": "white"
           },
           "zaxis": {
            "backgroundcolor": "#E5ECF6",
            "gridcolor": "white",
            "gridwidth": 2,
            "linecolor": "white",
            "showbackground": true,
            "ticks": "",
            "zerolinecolor": "white"
           }
          },
          "shapedefaults": {
           "line": {
            "color": "#2a3f5f"
           }
          },
          "ternary": {
           "aaxis": {
            "gridcolor": "white",
            "linecolor": "white",
            "ticks": ""
           },
           "baxis": {
            "gridcolor": "white",
            "linecolor": "white",
            "ticks": ""
           },
           "bgcolor": "#E5ECF6",
           "caxis": {
            "gridcolor": "white",
            "linecolor": "white",
            "ticks": ""
           }
          },
          "title": {
           "x": 0.05
          },
          "xaxis": {
           "automargin": true,
           "gridcolor": "white",
           "linecolor": "white",
           "ticks": "",
           "title": {
            "standoff": 15
           },
           "zerolinecolor": "white",
           "zerolinewidth": 2
          },
          "yaxis": {
           "automargin": true,
           "gridcolor": "white",
           "linecolor": "white",
           "ticks": "",
           "title": {
            "standoff": 15
           },
           "zerolinecolor": "white",
           "zerolinewidth": 2
          }
         }
        },
        "title": {
         "text": "Confusion Matrix: PCA - k = 9"
        },
        "xaxis": {
         "anchor": "y",
         "constrain": "domain",
         "domain": [
          0,
          1
         ],
         "scaleanchor": "y",
         "title": {
          "text": "Predicted Label"
         }
        },
        "yaxis": {
         "anchor": "x",
         "autorange": "reversed",
         "constrain": "domain",
         "domain": [
          0,
          1
         ],
         "title": {
          "text": "True Label"
         }
        }
       }
      }
     },
     "metadata": {},
     "output_type": "display_data"
    }
   ],
   "source": [
    "make_cx(y_test, pca_classifier.predict(pca.transform(x_test.reshape(x_test.shape[0],-1))).astype(np.int32), 'PCA - k = 9')"
   ]
  }
 ],
 "metadata": {
  "kernelspec": {
   "display_name": "c4",
   "language": "python",
   "name": "python3"
  },
  "language_info": {
   "codemirror_mode": {
    "name": "ipython",
    "version": 3
   },
   "file_extension": ".py",
   "mimetype": "text/x-python",
   "name": "python",
   "nbconvert_exporter": "python",
   "pygments_lexer": "ipython3",
   "version": "3.11.8"
  }
 },
 "nbformat": 4,
 "nbformat_minor": 2
}
